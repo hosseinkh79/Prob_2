{
 "cells": [
  {
   "cell_type": "code",
   "execution_count": 1,
   "metadata": {},
   "outputs": [],
   "source": [
    "%load_ext autoreload\n",
    "%autoreload 2\n",
    "\n",
    "import torch\n",
    "from torch import nn\n",
    "from torch.utils.data import DataLoader\n",
    "from torchvision.datasets import MNIST\n",
    "from torchvision.transforms import transforms\n",
    "\n",
    "import numpy as np\n",
    "import matplotlib.pyplot as plt\n",
    "import time"
   ]
  },
  {
   "cell_type": "code",
   "execution_count": 2,
   "metadata": {},
   "outputs": [],
   "source": [
    "# download mnist_dataset to desired directory and split to train, val, test\n",
    "from make_modular.configs import TRAIN_DATASET_PATH, TEST_DATASET_PATH\n",
    "from torch.utils.data import random_split\n",
    "\n",
    "transform = transforms.Compose([\n",
    "    transforms.ToTensor(),\n",
    "    transforms.Normalize((0.5,), (0.5,))\n",
    "])\n",
    "\n",
    "train_ds = MNIST(TRAIN_DATASET_PATH, train=True, download=True, transform=transform)\n",
    "test_ds = MNIST(TEST_DATASET_PATH, train=False, download=True, transform=transform)\n",
    "\n",
    "# split train_dataset to train and validation dataset\n",
    "val_percent = .15\n",
    "val_size = int(val_percent * len(train_ds))\n",
    "train_size = len(train_ds) - val_size\n",
    "\n",
    "train_ds, val_ds = random_split(train_ds, [train_size, val_size])"
   ]
  },
  {
   "cell_type": "code",
   "execution_count": 3,
   "metadata": {},
   "outputs": [
    {
     "data": {
      "text/plain": [
       "(51000, 9000, 10000)"
      ]
     },
     "execution_count": 3,
     "metadata": {},
     "output_type": "execute_result"
    }
   ],
   "source": [
    "# test our datasets\n",
    "len(train_ds), len(val_ds), len(test_ds)"
   ]
  },
  {
   "cell_type": "code",
   "execution_count": 4,
   "metadata": {},
   "outputs": [],
   "source": [
    "# make dataLoaders \n",
    "from make_modular.configs import batch_size\n",
    "\n",
    "train_dl = DataLoader(train_ds, batch_size=batch_size, shuffle=True)\n",
    "val_dl = DataLoader(val_ds, batch_size=batch_size, shuffle=True)\n",
    "test_dl = DataLoader(test_ds, batch_size=batch_size, shuffle=True)"
   ]
  },
  {
   "cell_type": "code",
   "execution_count": 5,
   "metadata": {},
   "outputs": [],
   "source": [
    "# test dataloaders\n",
    "images, labels = next(iter(train_dl))"
   ]
  },
  {
   "cell_type": "code",
   "execution_count": 6,
   "metadata": {},
   "outputs": [],
   "source": [
    "# convert image_tesnsor: (b, c, h, w) --> numpy_array: (b, h, w, c)=(b, 28, 28, 1)\n",
    "# img = images.numpy().transpose(0, 2, 3, 1)\n",
    "# plt.imshow(img[0])"
   ]
  },
  {
   "cell_type": "code",
   "execution_count": 7,
   "metadata": {},
   "outputs": [],
   "source": [
    "# show some images of dataset\n",
    "from make_modular.utils import show_images\n",
    "# show_images(images, labels)"
   ]
  },
  {
   "cell_type": "code",
   "execution_count": null,
   "metadata": {},
   "outputs": [],
   "source": [
    "from make_modular.model import MNIST_MODEL_1\n",
    "from make_modular.utils import print_train_time\n",
    "from pprint import pprint\n",
    "# find best lr\n",
    "from make_modular.utils import find_best_lr\n",
    "\n",
    "start_time = time.time()\n",
    "\n",
    "lr_exp_list = find_best_lr(model_class=MNIST_MODEL_1, \n",
    "                           n_iter=10,\n",
    "                           epochs_per_lr=3, \n",
    "                           lr_low=-6,\n",
    "                           lr_high=-3,\n",
    "                           train_dl=train_dl, \n",
    "                           val_dl=val_dl)\n",
    "end_time = time.time()\n",
    "total_time = print_train_time(start_time, end_time)\n",
    "\n",
    "# best lr in list associated with val_loss\n",
    "best_lr = min(lr_exp_list, key=lambda x: x[list(x.keys())[0]]['val_loss'][-1])\n",
    "# pprint(f'best_lr : {best_lr}')\n",
    "\n",
    "lrs = [] # key of dict:the lr\n",
    "losses_correspond_lr = [] # the test_loss with correspond lr\n",
    "\n",
    "for dictionary in lr_exp_list:\n",
    "    min_test_loss_key = min(dictionary, key=lambda k: dictionary[k]['val_loss'][-1])\n",
    "    lrs.append(min_test_loss_key)\n",
    "    losses_correspond_lr.append(dictionary[min_test_loss_key]['val_loss'][-1])"
   ]
  },
  {
   "cell_type": "code",
   "execution_count": 9,
   "metadata": {},
   "outputs": [],
   "source": [
    "# pprint(lr_exp_list)\n",
    "# pprint(f'best_lr : {best_lr}')"
   ]
  },
  {
   "cell_type": "code",
   "execution_count": 10,
   "metadata": {},
   "outputs": [],
   "source": [
    "final_res_lr =  []"
   ]
  },
  {
   "cell_type": "code",
   "execution_count": 12,
   "metadata": {},
   "outputs": [
    {
     "data": {
      "application/vnd.jupyter.widget-view+json": {
       "model_id": "2e529d1ea7ec4fcb84a8a925eeacd19d",
       "version_major": 2,
       "version_minor": 0
      },
      "text/plain": [
       "VBox(children=(Label(value='Waiting for wandb.init()...\\r'), FloatProgress(value=0.011111111111111112, max=1.0…"
      ]
     },
     "metadata": {},
     "output_type": "display_data"
    },
    {
     "data": {
      "text/html": [
       "Tracking run with wandb version 0.16.6"
      ],
      "text/plain": [
       "<IPython.core.display.HTML object>"
      ]
     },
     "metadata": {},
     "output_type": "display_data"
    },
    {
     "data": {
      "text/html": [
       "Run data is saved locally in <code>e:\\Programming\\Per\\Python\\Uni_Projects\\Probability_Learning\\proj_2\\wandb\\run-20240504_175404-kelc29uf</code>"
      ],
      "text/plain": [
       "<IPython.core.display.HTML object>"
      ]
     },
     "metadata": {},
     "output_type": "display_data"
    },
    {
     "data": {
      "text/html": [
       "Syncing run <strong><a href='https://wandb.ai/my_uni_project/MNIST/runs/kelc29uf' target=\"_blank\">exp_MNIST_MODEL_1,lr:0.05</a></strong> to <a href='https://wandb.ai/my_uni_project/MNIST' target=\"_blank\">Weights & Biases</a> (<a href='https://wandb.me/run' target=\"_blank\">docs</a>)<br/>"
      ],
      "text/plain": [
       "<IPython.core.display.HTML object>"
      ]
     },
     "metadata": {},
     "output_type": "display_data"
    },
    {
     "data": {
      "text/html": [
       " View project at <a href='https://wandb.ai/my_uni_project/MNIST' target=\"_blank\">https://wandb.ai/my_uni_project/MNIST</a>"
      ],
      "text/plain": [
       "<IPython.core.display.HTML object>"
      ]
     },
     "metadata": {},
     "output_type": "display_data"
    },
    {
     "data": {
      "text/html": [
       " View run at <a href='https://wandb.ai/my_uni_project/MNIST/runs/kelc29uf' target=\"_blank\">https://wandb.ai/my_uni_project/MNIST/runs/kelc29uf</a>"
      ],
      "text/plain": [
       "<IPython.core.display.HTML object>"
      ]
     },
     "metadata": {},
     "output_type": "display_data"
    },
    {
     "name": "stdout",
     "output_type": "stream",
     "text": [
      "epoch 1/1 | train_loss:3.54 | val_loss:2.31 | train_f1_score:0.019 | val_f1_score:0.018\n"
     ]
    },
    {
     "data": {
      "application/vnd.jupyter.widget-view+json": {
       "model_id": "819ecdac29da4048b08bee03b971d6b0",
       "version_major": 2,
       "version_minor": 0
      },
      "text/plain": [
       "VBox(children=(Label(value='0.001 MB of 0.001 MB uploaded\\r'), FloatProgress(value=1.0, max=1.0)))"
      ]
     },
     "metadata": {},
     "output_type": "display_data"
    },
    {
     "data": {
      "text/html": [
       "<style>\n",
       "    table.wandb td:nth-child(1) { padding: 0 10px; text-align: left ; width: auto;} td:nth-child(2) {text-align: left ; width: 100%}\n",
       "    .wandb-row { display: flex; flex-direction: row; flex-wrap: wrap; justify-content: flex-start; width: 100% }\n",
       "    .wandb-col { display: flex; flex-direction: column; flex-basis: 100%; flex: 1; padding: 10px; }\n",
       "    </style>\n",
       "<div class=\"wandb-row\"><div class=\"wandb-col\"><h3>Run history:</h3><br/><table class=\"wandb\"><tr><td>train_acc</td><td>▁</td></tr><tr><td>train_f1_score</td><td>▁</td></tr><tr><td>train_loss</td><td>▁</td></tr><tr><td>val_acc</td><td>▁</td></tr><tr><td>val_f1_score</td><td>▁</td></tr><tr><td>val_loss</td><td>▁</td></tr></table><br/></div><div class=\"wandb-col\"><h3>Run summary:</h3><br/><table class=\"wandb\"><tr><td>train_acc</td><td>0.10511</td></tr><tr><td>train_f1_score</td><td>0.01881</td></tr><tr><td>train_loss</td><td>3.53833</td></tr><tr><td>val_acc</td><td>0.10133</td></tr><tr><td>val_f1_score</td><td>0.01816</td></tr><tr><td>val_loss</td><td>2.30504</td></tr></table><br/></div></div>"
      ],
      "text/plain": [
       "<IPython.core.display.HTML object>"
      ]
     },
     "metadata": {},
     "output_type": "display_data"
    },
    {
     "data": {
      "text/html": [
       " View run <strong style=\"color:#cdcd00\">exp_MNIST_MODEL_1,lr:0.05</strong> at: <a href='https://wandb.ai/my_uni_project/MNIST/runs/kelc29uf' target=\"_blank\">https://wandb.ai/my_uni_project/MNIST/runs/kelc29uf</a><br/> View project at: <a href='https://wandb.ai/my_uni_project/MNIST' target=\"_blank\">https://wandb.ai/my_uni_project/MNIST</a><br/>Synced 5 W&B file(s), 0 media file(s), 0 artifact file(s) and 0 other file(s)"
      ],
      "text/plain": [
       "<IPython.core.display.HTML object>"
      ]
     },
     "metadata": {},
     "output_type": "display_data"
    },
    {
     "data": {
      "text/html": [
       "Find logs at: <code>.\\wandb\\run-20240504_175404-kelc29uf\\logs</code>"
      ],
      "text/plain": [
       "<IPython.core.display.HTML object>"
      ]
     },
     "metadata": {},
     "output_type": "display_data"
    },
    {
     "name": "stdout",
     "output_type": "stream",
     "text": [
      "\n",
      "Train time: 1.673 minutes\n"
     ]
    }
   ],
   "source": [
    "from make_modular.engine import train\n",
    "from make_modular.configs import device\n",
    "from make_modular.model import MNIST_MODEL_1\n",
    "from make_modular.utils import print_train_time\n",
    "\n",
    "model = MNIST_MODEL_1()\n",
    "\n",
    "lr = 5e-2\n",
    "epochs = 1\n",
    "project_name = 'MNIST'\n",
    "experiment_name = f'{model.__class__.__name__},lr:{lr}'\n",
    "\n",
    "optimizer = torch.optim.Adam(params=model.parameters(), lr=lr)\n",
    "loss_fn = nn.CrossEntropyLoss()\n",
    "\n",
    "# configs to save for wandb\n",
    "hp_configs = {\n",
    "    'model':model.__class__.__name__,\n",
    "    'lr':lr,\n",
    "    'epochs':epochs,\n",
    "    'device':device\n",
    "}\n",
    "\n",
    "start_time = time.time()\n",
    "results = train(model=model,\n",
    "                train_dl=train_dl,\n",
    "                val_dl=val_dl,\n",
    "                loss_fn=loss_fn,\n",
    "                optimizer=optimizer,\n",
    "                device=device,\n",
    "                epochs=epochs,\n",
    "                save_wandb=True,\n",
    "                project_name=project_name,\n",
    "                experiment_name=experiment_name,\n",
    "                hyper_param_config=hp_configs\n",
    "                )\n",
    "\n",
    "final_res_lr.append({lr:results})\n",
    "\n",
    "end_time = time.time()\n",
    "total_time = print_train_time(start_time, end_time)"
   ]
  },
  {
   "cell_type": "code",
   "execution_count": null,
   "metadata": {},
   "outputs": [],
   "source": [
    "# # find hyperparameters with optuna\n",
    "# import optuna\n",
    "\n",
    "# epochs = 2\n",
    "# loss_fn = nn.CrossEntropyLoss()\n",
    "\n",
    "# def objective(trial):\n",
    "\n",
    "#     lr = trial.suggest_float('lr', 1e-6, 1e-3, log=True)\n",
    "#     dropout_rate = trial.suggest_float('dropout_rate', .2, .6)\n",
    "#     model = MNIST_MODEL_1(dropout_rate=dropout_rate)\n",
    "#     optimizer = torch.optim.Adam(params=model.parameters(), lr=lr)\n",
    "#     # optimizer = \n",
    "#     results = train(\n",
    "#         model=model,\n",
    "#         train_dl=train_dl,\n",
    "#         val_dl=val_dl,\n",
    "#         loss_fn=loss_fn,\n",
    "#         optimizer=optimizer,\n",
    "#         device=device,\n",
    "#         epochs=epochs,\n",
    "#         save_wandb=False\n",
    "#     )\n",
    "\n",
    "#     mean_val_loss = np.mean(results['val_loss'])\n",
    "    \n",
    "#     return mean_val_loss\n",
    "\n",
    "# # start the finding hyper params\n",
    "# study = optuna.create_study(direction='minimize')\n",
    "# study.optimize(objective, n_trials=12)\n",
    "\n",
    "# # print best params\n",
    "# best_trial = study.best_trial\n",
    "# # print(f'best_trial: {study.best_trial}')\n",
    "# print(f'best_trial.value: {best_trial.values}')\n",
    "# print(f'best_trial.param: {best_trial.params}')"
   ]
  },
  {
   "cell_type": "code",
   "execution_count": 32,
   "metadata": {},
   "outputs": [
    {
     "data": {
      "image/png": "[encoded data removed]",
      "text/plain": [
       "<Figure size 1500x300 with 3 Axes>"
      ]
     },
     "metadata": {},
     "output_type": "display_data"
    }
   ],
   "source": [
    "from make_modular.utils import plot_loss_curves\n",
    "plot_loss_curves(results=results, figsize=(15, 3))"
   ]
  },
  {
   "cell_type": "code",
   "execution_count": null,
   "metadata": {},
   "outputs": [],
   "source": [
    "# save the model\n",
    "root_model_path = './models/'\n",
    "model_name = 'mn_model_1.pth'\n",
    "# # model_name = 'model_2.pth'\n",
    "# # model_name = 'model_3.pth'\n",
    "# # model_name = 'model_4.pth'\n",
    "# # model_name = 'model_5.pth'\n",
    "# # model_name = 'model_6.pth'\n",
    "model_path = root_model_path + model_name\n",
    "torch.save(model.state_dict(), model_path)"
   ]
  },
  {
   "cell_type": "code",
   "execution_count": null,
   "metadata": {},
   "outputs": [
    {
     "data": {
      "text/plain": [
       "<All keys matched successfully>"
      ]
     },
     "execution_count": 14,
     "metadata": {},
     "output_type": "execute_result"
    }
   ],
   "source": [
    "# load the model\n",
    "model = MNIST_MODEL_1()\n",
    "model.load_state_dict(torch.load(model_path))"
   ]
  },
  {
   "cell_type": "code",
   "execution_count": null,
   "metadata": {},
   "outputs": [
    {
     "data": {
      "text/plain": [
       "(0.04948953012743028, 0.9841759554140127, 0.9817392659722036)"
      ]
     },
     "execution_count": 15,
     "metadata": {},
     "output_type": "execute_result"
    }
   ],
   "source": [
    "# test model on test set\n",
    "from make_modular.engine import test_one_epoch\n",
    "test_loss, test_acc, test_f1_score = test_one_epoch(model=model,\n",
    "                                                    val_dl=test_dl,\n",
    "                                                    loss_fn=loss_fn,\n",
    "                                                    device=device)\n",
    "test_loss, test_acc, test_f1_score"
   ]
  },
  {
   "cell_type": "code",
   "execution_count": null,
   "metadata": {},
   "outputs": [],
   "source": [
    "# find best lr for models\n",
    "# write function to dataloaders\n",
    "# there is a problem with find best lr model should be inside the method \n",
    "# ask from gpt how to create new model in each for iterate"
   ]
  },
  {
   "cell_type": "code",
   "execution_count": null,
   "metadata": {},
   "outputs": [
    {
     "data": {
      "text/plain": [
       "2.0"
      ]
     },
     "execution_count": 15,
     "metadata": {},
     "output_type": "execute_result"
    }
   ],
   "source": [
    "a = [2, 2, 2, 2]\n",
    "np.mean(a)"
   ]
  },
  {
   "cell_type": "code",
   "execution_count": null,
   "metadata": {},
   "outputs": [],
   "source": []
  }
 ],
 "metadata": {
  "kernelspec": {
   "display_name": ".venv",
   "language": "python",
   "name": "python3"
  },
  "language_info": {
   "codemirror_mode": {
    "name": "ipython",
    "version": 3
   },
   "file_extension": ".py",
   "mimetype": "text/x-python",
   "name": "python",
   "nbconvert_exporter": "python",
   "pygments_lexer": "ipython3",
   "version": "3.12.1"
  }
 },
 "nbformat": 4,
 "nbformat_minor": 2
}
